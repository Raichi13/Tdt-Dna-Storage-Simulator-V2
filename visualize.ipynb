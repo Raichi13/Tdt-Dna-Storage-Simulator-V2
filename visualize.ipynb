{
 "cells": [
  {
   "cell_type": "code",
   "execution_count": null,
   "metadata": {},
   "outputs": [],
   "source": [
    "import pandas as pd\n",
    "import json\n",
    "import seaborn as sns\n",
    "\n",
    "\n",
    "# CSVファイルからパラメータを読み込む\n",
    "params = pd.read_csv('sim4.csv')\n",
    "\n",
    "# JSONファイルから結果を読み込む\n",
    "with open('sim4_result.json', 'r') as f:\n",
    "    results = json.load(f)\n",
    "\n",
    "# 結果をDataFrameに変換\n",
    "results_df = pd.json_normalize(results)\n",
    "\n",
    "# index列を基準に結果をパラメータに結合\n",
    "merged = params.merge(results_df, left_on=params.index, right_on='index')\n",
    "\n",
    "merged['error_rate'] = merged['results.error_bytes_avg'] / merged['results.total_bytes']\n",
    "\n",
    "heatmap_data = merged.pivot(index='molcule_num', columns='ecc_param', values='error_rate')\n",
    "\n",
    "sns.heatmap(heatmap_data)"
   ]
  },
  {
   "cell_type": "code",
   "execution_count": null,
   "metadata": {},
   "outputs": [],
   "source": [
    "import seaborn as sns\n",
    "import pandas as pd\n",
    "import numpy as np\n",
    "\n",
    "# データを作成\n",
    "data = np.random.rand(10, 12)\n",
    "df = pd.DataFrame(data, columns=[f'col{i}' for i in range(1, 13)])\n",
    "\n",
    "# ヒートマップを作成\n",
    "sns.heatmap(df)"
   ]
  }
 ],
 "metadata": {
  "kernelspec": {
   "display_name": "venv",
   "language": "python",
   "name": "python3"
  },
  "language_info": {
   "codemirror_mode": {
    "name": "ipython",
    "version": 3
   },
   "file_extension": ".py",
   "mimetype": "text/x-python",
   "name": "python",
   "nbconvert_exporter": "python",
   "pygments_lexer": "ipython3",
   "version": "3.9.2"
  },
  "orig_nbformat": 4
 },
 "nbformat": 4,
 "nbformat_minor": 2
}
